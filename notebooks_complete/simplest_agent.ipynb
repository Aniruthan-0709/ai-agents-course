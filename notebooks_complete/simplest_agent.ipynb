{
 "cells": [
  {
   "cell_type": "markdown",
   "id": "9bb0ee48",
   "metadata": {},
   "source": [
    "# Creating a Simple Agent with Tracing"
   ]
  },
  {
   "cell_type": "code",
   "execution_count": 5,
   "id": "dced13ed",
   "metadata": {},
   "outputs": [
    {
     "name": "stdout",
     "output_type": "stream",
     "text": [
      "- Captain: MS Dhoni. He has been the long-time captain of Chennai Super Kings, with Ravindra Jadeja leading the side briefly in 2022 before Dhoni returned. (For the very latest season, check the official CSK/IPL site.)\n",
      "\n",
      "- Why CSK are considered one of the best:\n",
      "  - Proven success: CSK has won multiple IPL titles and consistently makes the playoffs, showing strong performance across seasons.\n",
      "  - Dhoni’s leadership: Calm, influential captaincy and renowned finishing ability have defined the team’s mindset and strategy.\n",
      "  - Stability and culture: A steady coaching setup (e.g., Stephen Fleming) and a core group of players foster continuity and teamwork.\n",
      "  - Talent development: The franchise has a track record of nurturing and integrating talented players, often turning them into IPL stars.\n",
      "  - Home advantage and support: Chennai’s Chepauk stadium provides a supportive home crowd and spin-friendly conditions that CSK often adapt to well.\n",
      "\n",
      "If you want the very latest captain info for the current season, tell me the year you’re asking about and I’ll check the latest details.\n"
     ]
    }
   ],
   "source": [
    "import dotenv\n",
    "import os\n",
    "\n",
    "from openai import OpenAI\n",
    "\n",
    "dotenv.load_dotenv()\n",
    "\n",
    "if not os.environ.get(\"OPENAI_API_KEY\"):\n",
    "    print(\n",
    "        \"\"\"Error: OPENAI_API_KEY environment variable not set. Please copy the .env.template file as .env and fill it in.\n",
    "    \n",
    "    You can execute these commands in the terminal to get started:\n",
    "    cp .env.template .env\n",
    "    code .env\n",
    "    \"\"\"\n",
    "    )\n",
    "\n",
    "# Test OpenAI Access\n",
    "print(\n",
    "    OpenAI()\n",
    "    .responses.create(\n",
    "        model=os.environ[\"OPENAI_DEFAULT_MODEL\"], input=\"who is the captain of chennai super kings and why they are the best\"\n",
    "    )\n",
    "    .output_text\n",
    ")"
   ]
  },
  {
   "cell_type": "code",
   "execution_count": 3,
   "id": "afcbf0e1",
   "metadata": {},
   "outputs": [],
   "source": [
    "from agents import Agent, Runner, trace\n",
    "from openai.types.responses import ResponseTextDeltaEvent"
   ]
  },
  {
   "cell_type": "markdown",
   "id": "648facaa",
   "metadata": {},
   "source": [
    "Create a simple Nutrition Assistant Agent"
   ]
  },
  {
   "cell_type": "code",
   "execution_count": null,
   "id": "5e542d69",
   "metadata": {},
   "outputs": [],
   "source": [
    "nutrition_agent = Agent(\n",
    "    name=\"Nutrition Assistant\",\n",
    "    instructions=\"\"\"\n",
    "    You are a helpful assistant giving out nutrition advice.\n",
    "    You give concise answers.\n",
    "    \"\"\",\n",
    ")"
   ]
  },
  {
   "cell_type": "markdown",
   "id": "8d30b1b1",
   "metadata": {},
   "source": [
    "Let's execute the Agent:"
   ]
  },
  {
   "cell_type": "code",
   "execution_count": null,
   "id": "1ede6dc3",
   "metadata": {},
   "outputs": [],
   "source": [
    "with trace(\"Simple Nutrition Agent\"):\n",
    "    result = await Runner.run(nutrition_agent, \"How healthy are bananas?\")\n",
    "\n",
    "print(result)"
   ]
  },
  {
   "cell_type": "markdown",
   "id": "eee3194d",
   "metadata": {},
   "source": [
    "Streaming the answer to the screen, token by token"
   ]
  },
  {
   "cell_type": "code",
   "execution_count": null,
   "id": "fa70122b",
   "metadata": {},
   "outputs": [],
   "source": [
    "response_stream = Runner.run_streamed(nutrition_agent, \"How healthy are bananas?\")\n",
    "\n",
    "async for event in response_stream.stream_events():\n",
    "    if event.type == \"raw_response_event\" and isinstance(\n",
    "        event.data, ResponseTextDeltaEvent\n",
    "    ):\n",
    "        print(event.data.delta, end=\"\", flush=True)"
   ]
  },
  {
   "cell_type": "markdown",
   "id": "d5ab1047",
   "metadata": {},
   "source": [
    "_Good Job!_"
   ]
  },
  {
   "cell_type": "markdown",
   "id": "75e7c0c8",
   "metadata": {},
   "source": []
  }
 ],
 "metadata": {
  "kernelspec": {
   "display_name": "Python 3",
   "language": "python",
   "name": "python3"
  },
  "language_info": {
   "codemirror_mode": {
    "name": "ipython",
    "version": 3
   },
   "file_extension": ".py",
   "mimetype": "text/x-python",
   "name": "python",
   "nbconvert_exporter": "python",
   "pygments_lexer": "ipython3",
   "version": "3.13.5"
  }
 },
 "nbformat": 4,
 "nbformat_minor": 5
}
