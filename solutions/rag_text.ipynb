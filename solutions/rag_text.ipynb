{
 "cells": [
  {
   "cell_type": "markdown",
   "id": "568a95f0",
   "metadata": {},
   "source": [
    "# RAG Exercise Solution"
   ]
  },
  {
   "cell_type": "code",
   "execution_count": 1,
   "id": "3b442449",
   "metadata": {},
   "outputs": [
    {
     "data": {
      "text/plain": [
       "True"
      ]
     },
     "execution_count": 1,
     "metadata": {},
     "output_type": "execute_result"
    }
   ],
   "source": [
    "import dotenv\n",
    "\n",
    "from agents import Agent, Runner, trace, function_tool\n",
    "\n",
    "import chromadb\n",
    "\n",
    "dotenv.load_dotenv()"
   ]
  },
  {
   "cell_type": "markdown",
   "id": "69af3322",
   "metadata": {},
   "source": [
    "Create a static calorie table that we can use as a tool:"
   ]
  },
  {
   "cell_type": "code",
   "execution_count": 2,
   "id": "5cd4f7ad",
   "metadata": {},
   "outputs": [],
   "source": [
    "# We populated the RAG with the data from the data/calories.csv file in the rag_setup.ipynb notebook\n",
    "\n",
    "chroma_client = chromadb.PersistentClient(path=\"../chroma\")\n",
    "calories_db = chroma_client.get_collection(name=\"nutrition_db\")\n",
    "nuntrition_qna_db = chroma_client.get_collection(name=\"nutrition_qna\")"
   ]
  },
  {
   "cell_type": "code",
   "execution_count": 3,
   "id": "fe2a2850",
   "metadata": {},
   "outputs": [],
   "source": [
    "@function_tool\n",
    "def calorie_lookup_tool(query: str, max_results: int = 3) -> str:\n",
    "    \"\"\"\n",
    "    Tool function too look up calorie information.\n",
    "\n",
    "    Args:\n",
    "        query: The food item to look up.\n",
    "        max_results: The maximum number of results to return.\n",
    "\n",
    "    Returns:\n",
    "        A string containing the nutrition information.\n",
    "    \"\"\"\n",
    "\n",
    "    results = calories_db.query(query_texts=[query], n_results=max_results)\n",
    "\n",
    "    if not results[\"documents\"][0]:\n",
    "        return f\"No nutrition information found for: {query}\"\n",
    "\n",
    "    # Format results for the agent\n",
    "    formatted_results = []\n",
    "    for i, doc in enumerate(results[\"documents\"][0]):\n",
    "        metadata = results[\"metadatas\"][0][i]\n",
    "        food_item = metadata[\"food_item\"].title()\n",
    "        calories = metadata[\"calories_per_100g\"]\n",
    "        category = metadata[\"food_category\"].title()\n",
    "\n",
    "        formatted_results.append(\n",
    "            f\"{food_item} ({category}): {calories} calories per 100g\"\n",
    "        )\n",
    "\n",
    "    return \"Nutrition Information:\\n\" + \"\\n\".join(formatted_results)\n",
    "\n",
    "\n",
    "@function_tool\n",
    "def nutrtition_qna_tool(query: str, max_results: int = 3) -> str:\n",
    "    \"\"\"\n",
    "    Tool function too ask a question about nutrition.\n",
    "\n",
    "    Args:\n",
    "        query: The question to ask\n",
    "        max_results: The maximum number of results to return.\n",
    "\n",
    "    Returns:\n",
    "        A string containing the question and the answer related to the query.\n",
    "    \"\"\"\n",
    "\n",
    "    results = nuntrition_qna_db.query(query_texts=[query], n_results=max_results)\n",
    "\n",
    "    if not results[\"documents\"][0]:\n",
    "        return f\"No information found for: {query}\"\n",
    "\n",
    "    # Format results for the agent\n",
    "    formatted_results = []\n",
    "    for i, doc in enumerate(results[\"documents\"][0]):\n",
    "        formatted_results.append(doc)\n",
    "\n",
    "    return \"Related answers to your question:\\n\" + \"\\n\".join(formatted_results)"
   ]
  },
  {
   "cell_type": "code",
   "execution_count": 4,
   "id": "1fe172e2",
   "metadata": {},
   "outputs": [],
   "source": [
    "calorie_agent = Agent(\n",
    "    name=\"Nutrition Assistant\",\n",
    "    instructions=\"\"\"\n",
    "    You are a helpful nutrition assistant giving out calorie information and nutrtion advice    .\n",
    "    You give concise answers.\n",
    "    \n",
    "    If you need to look up calorie information, use the calorie_lookup_tool.\n",
    "    If are asked a question about nutrition, always use the nutrtition_qna_tool first to see if there is an answer in the knowledge base.\n",
    "    \"\"\",\n",
    "    tools=[calorie_lookup_tool, nutrtition_qna_tool],\n",
    ")"
   ]
  },
  {
   "cell_type": "code",
   "execution_count": 5,
   "id": "1705b2fc",
   "metadata": {},
   "outputs": [
    {
     "name": "stdout",
     "output_type": "stream",
     "text": [
      "Pregnant women should focus on a balanced, nutrient-dense pattern with enough iron, folate, calcium, and DHA, plus an extra ~200 kcal/day. Aim for a mix of protein, whole grains, dairy or fortified alternatives, fruits/vegetables, and healthy fats.\n",
      "\n",
      "Example day (about 2,200–2,400 kcal):\n",
      "- Breakfast (~420 kcal): Greek yogurt with berries, a handful of nuts, and a drizzle of honey.\n",
      "- Lunch (~700 kcal): Quinoa bowl with grilled chicken or beans, mixed greens, roasted veggies, avocado, and olive oil lemon dressing.\n",
      "- Snack (~250 kcal): Apple or banana with peanut butter or a small cheese stick.\n",
      "- Dinner (~700 kcal): Baked salmon or tofu, brown rice, steamed broccoli, and a side salad with vinaigrette.\n",
      "- Evening snack (~150–300 kcal): Whole-grain crackers with hummus or a small milk-based smoothie.\n",
      "\n",
      "Key nutrients to emphasize:\n",
      "- Iron: lean meats, fortified cereals, beans, lentils, spinach (pair with vitamin C-rich foods to boost absorption).\n",
      "- Folate: leafy greens, citrus, beans, fortified grains.\n",
      "- Calcium: dairy or fortified non-dairy alternatives, tofu, leafy greens (limit oxalate-rich combos that hinder absorption).\n",
      "- DHA: fatty fish (safe options like salmon, sardines) or algae-based DHA.\n",
      "- B vitamins, fiber, and adequate fluids.\n",
      "\n",
      "If you want, I can tailor a meal plan to your calories, dietary preferences, and any restrictions.\n"
     ]
    }
   ],
   "source": [
    "with trace(\"Nutrition Assistant with Nutrition and Calorie RAG\"):\n",
    "    result = await Runner.run(\n",
    "        calorie_agent,\n",
    "        \"What are the best meal choices for pregnant women and how many calories do they have?\",\n",
    "    )\n",
    "    print(result.final_output)"
   ]
  }
 ],
 "metadata": {
  "kernelspec": {
   "display_name": "Python 3",
   "language": "python",
   "name": "python3"
  },
  "language_info": {
   "codemirror_mode": {
    "name": "ipython",
    "version": 3
   },
   "file_extension": ".py",
   "mimetype": "text/x-python",
   "name": "python",
   "nbconvert_exporter": "python",
   "pygments_lexer": "ipython3",
   "version": "3.13.5"
  }
 },
 "nbformat": 4,
 "nbformat_minor": 5
}
