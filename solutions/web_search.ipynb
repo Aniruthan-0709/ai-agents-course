{
 "cells": [
  {
   "cell_type": "markdown",
   "id": "520fc1f9",
   "metadata": {},
   "source": [
    "# Solution: Using OpenAI's Web Search Tool"
   ]
  },
  {
   "cell_type": "code",
   "execution_count": 2,
   "id": "f92c9e77",
   "metadata": {},
   "outputs": [
    {
     "data": {
      "text/plain": [
       "True"
      ]
     },
     "execution_count": 2,
     "metadata": {},
     "output_type": "execute_result"
    }
   ],
   "source": [
    "import os\n",
    "\n",
    "import chromadb\n",
    "import dotenv\n",
    "from agents import Agent, Runner, WebSearchTool, function_tool, trace\n",
    "\n",
    "dotenv.load_dotenv()"
   ]
  },
  {
   "cell_type": "code",
   "execution_count": 3,
   "id": "39d19ca1",
   "metadata": {},
   "outputs": [],
   "source": [
    "chroma_client = chromadb.PersistentClient(path=\"../chroma\")\n",
    "nutrition_db = chroma_client.get_collection(name=\"nutrition_db\")"
   ]
  },
  {
   "cell_type": "code",
   "execution_count": 4,
   "id": "b2fac606",
   "metadata": {},
   "outputs": [],
   "source": [
    "# This is the same code as in the rag.ipynb notebook\n",
    "\n",
    "\n",
    "@function_tool\n",
    "def calorie_lookup_tool(query: str, max_results: int = 3) -> str:\n",
    "    \"\"\"\n",
    "    Tool function for a RAG database to look up calorie information for specific food items, but not for meals.\n",
    "\n",
    "    Args:\n",
    "        query: The food item to look up.\n",
    "        max_results: The maximum number of results to return.\n",
    "\n",
    "    Returns:\n",
    "        A string containing the nutrition information.\n",
    "    \"\"\"\n",
    "\n",
    "    results = nutrition_db.query(query_texts=[query], n_results=max_results)\n",
    "\n",
    "    if not results[\"documents\"][0]:\n",
    "        return f\"No nutrition information found for: {query}\"\n",
    "\n",
    "    # Format results for the agent\n",
    "    formatted_results = []\n",
    "    for i, doc in enumerate(results[\"documents\"][0]):\n",
    "        metadata = results[\"metadatas\"][0][i]\n",
    "        food_item = metadata[\"food_item\"].title()\n",
    "        calories = metadata[\"calories_per_100g\"]\n",
    "        category = metadata[\"food_category\"].title()\n",
    "\n",
    "        formatted_results.append(\n",
    "            f\"{food_item} ({category}): {calories} calories per 100g\"\n",
    "        )\n",
    "\n",
    "    return \"Nutrition Information:\\n\" + \"\\n\".join(formatted_results)"
   ]
  },
  {
   "cell_type": "markdown",
   "id": "100b3bfe",
   "metadata": {},
   "source": [
    "## The Trick\n",
    "\n",
    "Here comes the trick: Instead of creating an Exa Search MCP, we are simply passing the `WebSearchTool` as a tool to the agent "
   ]
  },
  {
   "cell_type": "code",
   "execution_count": 5,
   "id": "b8446290",
   "metadata": {},
   "outputs": [],
   "source": [
    "calorie_agent_with_search = Agent(\n",
    "    name=\"Nutrition Assistant\",\n",
    "    instructions=\"\"\"\n",
    "    * You are a helpful nutrition assistant giving out calorie information.\n",
    "    * You give concise answers.\n",
    "    * You follow this workflow:\n",
    "        0) First, use the calorie_lookup_tool to get the calorie information of the ingredients. But only use the result if it's explicitly for the food requested in the query.\n",
    "        1) If you couldn't find the exact match for the food or you need to look up the ingredients, search the web to figure out the exact ingredients of the meal.\n",
    "        Even if you have the calories in the web search response, you should still use the calorie_lookup_tool to get the calorie\n",
    "        information of the ingredients to make sure the information you provide is consistent.\n",
    "        2) Then, if it's about a meal, use the calorie_lookup_tool to get the calorie information of the ingredients.\n",
    "    * Even if you know the recipe of the meal, always use web search to find the exact recipe and ingredients.\n",
    "    * Once you know the ingredients, always use the calorie_lookup_tool to get the calorie information of the individual ingredients.\n",
    "    * If the query is about the meal, in your final output give a list of ingredients with their quantities and calories for a single serving. Also display the total calories.\n",
    "    * Don't use the calorie_lookup_tool more than 8 times.\n",
    "    \"\"\",\n",
    "    tools=[calorie_lookup_tool, WebSearchTool()],\n",
    ")"
   ]
  },
  {
   "cell_type": "code",
   "execution_count": 6,
   "id": "9c1b3db5",
   "metadata": {},
   "outputs": [
    {
     "name": "stdout",
     "output_type": "stream",
     "text": [
      "A typical full English breakfast is about 600–900 kcal per serving, depending on portion sizes and cooking methods.\n",
      "\n",
      "Sample breakdown (rough averages):\n",
      "- 1 large egg: ~70 kcal\n",
      "- 2 slices bacon: ~60–70 kcal\n",
      "- 1 pork sausage: ~150–180 kcal\n",
      "- Baked beans (about 130 g): ~120 kcal\n",
      "- Grilled tomato (half): ~10 kcal\n",
      "- Mushrooms (about 100 g): ~20–25 kcal\n",
      "- Toast (2 slices, white bread) with butter: ~180–220 kcal\n",
      "\n",
      "Total: roughly 610–800 kcal (can be higher if you add fried bread, more sausage, bigger portions, or butter heavy). Would you like a precise breakdown for a specific portion size?\n"
     ]
    }
   ],
   "source": [
    "with trace(\"Nutrition Assistant with Web Search\"):\n",
    "    result = await Runner.run(\n",
    "        calorie_agent_with_search, \"How many calories are in an english breakfast?\"\n",
    "    )\n",
    "    print(result.final_output)"
   ]
  }
 ],
 "metadata": {
  "kernelspec": {
   "display_name": "Python 3",
   "language": "python",
   "name": "python3"
  },
  "language_info": {
   "codemirror_mode": {
    "name": "ipython",
    "version": 3
   },
   "file_extension": ".py",
   "mimetype": "text/x-python",
   "name": "python",
   "nbconvert_exporter": "python",
   "pygments_lexer": "ipython3",
   "version": "3.13.5"
  }
 },
 "nbformat": 4,
 "nbformat_minor": 5
}
